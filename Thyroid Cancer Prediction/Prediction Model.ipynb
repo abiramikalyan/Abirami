{
 "cells": [
  {
   "cell_type": "code",
   "execution_count": 2,
   "id": "771e204b-56b2-4505-9d6b-907656807c96",
   "metadata": {},
   "outputs": [],
   "source": [
    "import pandas as pd\n",
    "from sklearn.model_selection import train_test_split\n",
    "from sklearn.preprocessing import LabelEncoder, StandardScaler\n",
    "from sklearn.linear_model import LogisticRegression\n",
    "from sklearn.ensemble import RandomForestClassifier\n",
    "from sklearn.svm import SVC\n",
    "from sklearn.metrics import accuracy_score"
   ]
  },
  {
   "cell_type": "markdown",
   "id": "81043208",
   "metadata": {},
   "source": []
  },
  {
   "cell_type": "code",
   "execution_count": null,
   "id": "11b1e143-92b2-4366-9378-f9877f03b0b8",
   "metadata": {},
   "outputs": [],
   "source": [
    "data = pd.read_csv('Thyroid_Diff.csv')\n",
    "data.head()\n",
    "X = data.drop(columns=['Recurred'])  \n",
    "y = data['Recurred']  "
   ]
  },
  {
   "cell_type": "code",
   "execution_count": null,
   "id": "a2083f3c-51e0-4065-b38f-66beb0e73de8",
   "metadata": {},
   "outputs": [],
   "source": [
    "categorical_cols = X.select_dtypes(include=['object']).columns\n",
    "X_encoded = pd.get_dummies(X, columns=categorical_cols)\n",
    "\n",
    "label_encoder = LabelEncoder()\n",
    "y_encoded = label_encoder.fit_transform(y)  "
   ]
  },
  {
   "cell_type": "code",
   "execution_count": 5,
   "id": "dcb6451e-b90d-418b-8ab6-3142c835b0db",
   "metadata": {},
   "outputs": [],
   "source": [
    "X_train, X_test, y_train, y_test = train_test_split(X_encoded, y_encoded, test_size=0.2, random_state=42)"
   ]
  },
  {
   "cell_type": "code",
   "execution_count": 6,
   "id": "484fe96c-9686-486f-a22e-bf397a8776f4",
   "metadata": {},
   "outputs": [],
   "source": [
    "scaler = StandardScaler()\n",
    "X_train_scaled = scaler.fit_transform(X_train)\n",
    "X_test_scaled = scaler.transform(X_test)"
   ]
  },
  {
   "cell_type": "code",
   "execution_count": null,
   "id": "493ef2ca-0a33-4494-8f84-bc7f162e6493",
   "metadata": {},
   "outputs": [],
   "source": [
    "logreg = LogisticRegression(max_iter=1000)  \n",
    "svc = SVC()  \n",
    "rf = RandomForestClassifier()  "
   ]
  },
  {
   "cell_type": "code",
   "execution_count": null,
   "id": "e481673d-07a6-491c-aacc-f52553f8db5a",
   "metadata": {},
   "outputs": [
    {
     "name": "stdout",
     "output_type": "stream",
     "text": [
      "Model Accuracies: {'Logistic Regression': 0.961038961038961, 'SVM': 0.987012987012987, 'Random Forest': 0.987012987012987}\n"
     ]
    }
   ],
   "source": [
    "models = {'Logistic Regression': logreg, 'SVM': svc, 'Random Forest': rf}\n",
    "results = {}\n",
    "\n",
    "for name, model in models.items():\n",
    "    model.fit(X_train_scaled, y_train)\n",
    "    y_pred = model.predict(X_test_scaled)\n",
    "    accuracy = accuracy_score(y_test, y_pred)\n",
    "    results[name] = accuracy\n",
    "\n",
    "print(\"Model Accuracies:\", results)"
   ]
  },
  {
   "cell_type": "code",
   "execution_count": null,
   "id": "1e3c97c3-d054-4183-b501-26027baa7a36",
   "metadata": {},
   "outputs": [
    {
     "name": "stdout",
     "output_type": "stream",
     "text": [
      "Best-performing model: SVM with accuracy 0.987012987012987\n"
     ]
    },
    {
     "name": "stdout",
     "output_type": "stream",
     "text": [
      "Predicted outcome for new input: No\n"
     ]
    }
   ],
   "source": [
    "best_model_name = max(results, key=results.get)\n",
    "best_model = models[best_model_name]\n",
    "print(f\"Best-performing model: {best_model_name} with accuracy {results[best_model_name]}\")\n",
    "\n",
    "def get_user_input():\n",
    "    input_data = {}\n",
    "    \n",
    "    input_data['Age'] = float(input(\"Enter Age: \"))\n",
    "    input_data['Gender'] = input(\"Enter Gender (M/F): \")\n",
    "    input_data['Smoking'] = input(\"Smoking (Yes/No): \")\n",
    "    input_data['Hx Smoking'] = input(\"Hx Smoking (Yes/No): \")\n",
    "    input_data['Hx Radiotherapy'] = input(\"Hx Radiotherapy (Yes/No): \")\n",
    "    input_data['Thyroid Function'] = input(\"Enter Thyroid Function (e.g., Euthyroid, Hyperthyroid): \")\n",
    "    input_data['Physical Examination'] = input(\"Enter Physical Examination findings: \")\n",
    "    input_data['Adenopathy'] = input(\"Adenopathy (Yes/No): \")\n",
    "    input_data['Pathology'] = input(\"Enter Pathology (e.g., Micropapillary): \")\n",
    "    input_data['Focality'] = input(\"Enter Focality (e.g., Uni-Focal, Multi-Focal): \")\n",
    "    input_data['Risk'] = input(\"Enter Risk (Low/High): \")\n",
    "    input_data['T'] = input(\"Enter T staging (e.g., T1a): \")\n",
    "    input_data['N'] = input(\"Enter N staging (e.g., N0): \")\n",
    "    input_data['M'] = input(\"Enter M staging (e.g., M0): \")\n",
    "    input_data['Stage'] = input(\"Enter Stage (e.g., I, II): \")\n",
    "    input_data['Response'] = input(\"Enter Response (e.g., Excellent, Indeterminate): \")\n",
    "\n",
    "    return input_data\n",
    "\n",
    "def prepare_input_for_prediction(input_data):\n",
    "    input_df = pd.DataFrame([input_data])  \n",
    "    input_encoded = pd.get_dummies(input_df)\n",
    "    \n",
    "    missing_cols = set(X_encoded.columns) - set(input_encoded.columns)\n",
    "    for col in missing_cols:\n",
    "        input_encoded[col] = 0  \n",
    "    \n",
    "    input_encoded = input_encoded[X_encoded.columns]\n",
    "\n",
    "    input_scaled = scaler.transform(input_encoded)\n",
    "    \n",
    "    return input_scaled\n",
    "\n",
    "new_input = get_user_input()\n",
    "\n",
    "prepared_input = prepare_input_for_prediction(new_input)\n",
    "\n",
    "predicted_outcome = best_model.predict(prepared_input)\n",
    "predicted_label = label_encoder.inverse_transform(predicted_outcome)  # Convert back to original labels\n",
    "print(f\"Predicted outcome for new input: {predicted_label[0]}\")"
   ]
  }
 ],
 "metadata": {
  "kernelspec": {
   "display_name": "Python 3",
   "language": "python",
   "name": "python3"
  },
  "language_info": {
   "codemirror_mode": {
    "name": "ipython",
    "version": 3
   },
   "file_extension": ".py",
   "mimetype": "text/x-python",
   "name": "python",
   "nbconvert_exporter": "python",
   "pygments_lexer": "ipython3",
   "version": "3.13.2"
  }
 },
 "nbformat": 4,
 "nbformat_minor": 5
}
